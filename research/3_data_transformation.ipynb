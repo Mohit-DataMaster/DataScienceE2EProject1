{
 "cells": [
  {
   "cell_type": "code",
   "execution_count": 1,
   "id": "efb12f8a",
   "metadata": {},
   "outputs": [
    {
     "data": {
      "text/plain": [
       "'e:\\\\MLOps\\\\DataScienceE2EProject1'"
      ]
     },
     "execution_count": 1,
     "metadata": {},
     "output_type": "execute_result"
    }
   ],
   "source": [
    "import os\n",
    "os.chdir('../')\n",
    "%pwd"
   ]
  },
  {
   "cell_type": "code",
   "execution_count": 2,
   "id": "fdd356c4",
   "metadata": {},
   "outputs": [],
   "source": [
    "from dataclasses import dataclass\n",
    "from pathlib import Path"
   ]
  },
  {
   "cell_type": "code",
   "execution_count": 3,
   "id": "e0a745a1",
   "metadata": {},
   "outputs": [],
   "source": [
    "@dataclass\n",
    "class DataTransformationConfig:\n",
    "    root_dir: Path\n",
    "    data_file: Path"
   ]
  },
  {
   "cell_type": "code",
   "execution_count": 4,
   "id": "128c298f",
   "metadata": {},
   "outputs": [],
   "source": [
    "from src.datascience.constants import *\n",
    "from src.datascience.utils.common import read_yaml, create_directories\n",
    "\n",
    "class ConfigurationManager:\n",
    "    def __init__(self, \n",
    "                 config_filepath=CONFIG_FILE_PATH,\n",
    "                 params_filepath=PARAMS_FILE_PATH,\n",
    "                 schema_filepath=SCHEMA_FILE_PATH):\n",
    "        \n",
    "        self.config=read_yaml(config_filepath)\n",
    "        self.params=read_yaml(params_filepath)\n",
    "        self.schema=read_yaml(schema_filepath)\n",
    "\n",
    "    def get_data_transformation_config(self) -> DataTransformationConfig:\n",
    "        config=self.config.data_transformation\n",
    "\n",
    "        create_directories([config.root_dir])\n",
    "        \n",
    "        data_transformation_config=DataTransformationConfig(\n",
    "            root_dir=config.root_dir,\n",
    "            data_file=config.data_file,\n",
    "        )\n",
    "\n",
    "        return data_transformation_config"
   ]
  },
  {
   "cell_type": "code",
   "execution_count": null,
   "id": "e0a0016d",
   "metadata": {},
   "outputs": [],
   "source": [
    "import os\n",
    "import pandas as pd\n",
    "from sklearn.model_selection import train_test_split\n",
    "from src.datascience import logger"
   ]
  },
  {
   "cell_type": "code",
   "execution_count": 6,
   "id": "6acf67f5",
   "metadata": {},
   "outputs": [],
   "source": [
    "class DataTransformation:\n",
    "\n",
    "    def __init__(self, config: DataTransformationConfig):\n",
    "        self.config = config\n",
    "\n",
    "    # EDA/Feature Engineering, Transformation techniques like scaling, PCA or standardization can be performed here\n",
    "\n",
    "    def train_test_splitting(self):\n",
    "        data = pd.read_csv(self.config.data_file)\n",
    "        train, test = train_test_split(data) # 75/25 split and shuffle=True\n",
    "\n",
    "        train.to_csv(os.path.join(self.config.root_dir, 'train.csv'), index = None)\n",
    "        test.to_csv(os.path.join(self.config.root_dir, 'test.csv'), index = None)\n",
    "\n",
    "        logger.info(\"Data split into Train and test\")\n",
    "        logger.info(f\"train shape: {train.shape}\")\n",
    "        logger.info(f\"test shape: {test.shape}\")\n",
    "\n",
    "        print(train.shape, test.shape)"
   ]
  },
  {
   "cell_type": "code",
   "execution_count": 7,
   "id": "8633448b",
   "metadata": {},
   "outputs": [
    {
     "name": "stdout",
     "output_type": "stream",
     "text": [
      "[2025-07-05 00:32:16,016: INFO: common: yaml file: config\\config.yaml loaded successfully]\n",
      "[2025-07-05 00:32:16,021: INFO: common: yaml file: params.yaml loaded successfully]\n",
      "[2025-07-05 00:32:16,034: INFO: common: yaml file: schema.yaml loaded successfully]\n",
      "[2025-07-05 00:32:16,038: INFO: common: Created directory: artifacts/data_transformation]\n",
      "[2025-07-05 00:32:16,085: INFO: 158621549: Data split into Train and test]\n",
      "[2025-07-05 00:32:16,088: INFO: 158621549: train shape: (1199, 12)]\n",
      "[2025-07-05 00:32:16,089: INFO: 158621549: test shape: (400, 12)]\n",
      "(1199, 12) (400, 12)\n"
     ]
    }
   ],
   "source": [
    "try:\n",
    "    config = ConfigurationManager()\n",
    "    data_transformation_config = config.get_data_transformation_config()\n",
    "    data_transformation = DataTransformation(data_transformation_config)\n",
    "    data_transformation.train_test_splitting()\n",
    "except Exception as e:\n",
    "    raise e\n"
   ]
  },
  {
   "cell_type": "code",
   "execution_count": null,
   "id": "edd475d9",
   "metadata": {},
   "outputs": [],
   "source": []
  }
 ],
 "metadata": {
  "kernelspec": {
   "display_name": "venv",
   "language": "python",
   "name": "python3"
  },
  "language_info": {
   "codemirror_mode": {
    "name": "ipython",
    "version": 3
   },
   "file_extension": ".py",
   "mimetype": "text/x-python",
   "name": "python",
   "nbconvert_exporter": "python",
   "pygments_lexer": "ipython3",
   "version": "3.10.0"
  }
 },
 "nbformat": 4,
 "nbformat_minor": 5
}
