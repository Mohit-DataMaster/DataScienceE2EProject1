{
 "cells": [
  {
   "cell_type": "code",
   "execution_count": 1,
   "id": "f73f6d5b",
   "metadata": {},
   "outputs": [
    {
     "data": {
      "text/plain": [
       "'e:\\\\MLOps\\\\DataScienceE2EProject1'"
      ]
     },
     "execution_count": 1,
     "metadata": {},
     "output_type": "execute_result"
    }
   ],
   "source": [
    "import os\n",
    "os.chdir('../')\n",
    "%pwd"
   ]
  },
  {
   "cell_type": "code",
   "execution_count": 3,
   "id": "c0696791",
   "metadata": {},
   "outputs": [],
   "source": [
    "os.environ[\"MLFLOW_TRACKING_URI\"]=\"https://dagshub.com/mohitsaini.nitk/DataScienceE2EProject1.mlflow\"\n",
    "os.environ[\"MLFLOW_TRACKING_USERNAME\"]=\"mohitsaini.nitk\"\n",
    "os.environ[\"MLFLOW_TRACKING_PASSWORD\"]=\"21ce4560d87a2cbe8ed23a2f893fbee85d073050\""
   ]
  },
  {
   "cell_type": "code",
   "execution_count": 4,
   "id": "52b9b32e",
   "metadata": {},
   "outputs": [],
   "source": [
    "from dataclasses import dataclass\n",
    "from pathlib import Path\n",
    "\n",
    "@dataclass\n",
    "class ModelEvaluationConfig:\n",
    "    root_dir: Path\n",
    "    test_data_path: Path\n",
    "    model_path: Path\n",
    "    metric_file_name: Path\n",
    "    all_params: dict\n",
    "    target_column: str\n",
    "    mlflow_uri: str"
   ]
  },
  {
   "cell_type": "code",
   "execution_count": 5,
   "id": "2a946229",
   "metadata": {},
   "outputs": [],
   "source": [
    "from src.datascience.constants import *\n",
    "from src.datascience.utils.common import read_yaml, create_directories, save_json"
   ]
  },
  {
   "cell_type": "code",
   "execution_count": 6,
   "id": "4048d075",
   "metadata": {},
   "outputs": [],
   "source": [
    "class ConfigurationManager:\n",
    "\n",
    "    def __init__(self, \n",
    "                config_filepath = CONFIG_FILE_PATH,\n",
    "                params_filepath = PARAMS_FILE_PATH,\n",
    "                schema_filepath = SCHEMA_FILE_PATH):\n",
    "        self.config = read_yaml(config_filepath)\n",
    "        self.params = read_yaml(params_filepath)\n",
    "        self.schema = read_yaml(schema_filepath)\n",
    "\n",
    "    def get_model_evaluation_config(self) -> ModelEvaluationConfig:\n",
    "        config = self.config.model_evaluation\n",
    "        params = self.params.ElasticNet\n",
    "        schema = self.schema.TARGET_COLUMN\n",
    "\n",
    "        create_directories([config.root_dir])\n",
    "\n",
    "        model_evaluation_config = ModelEvaluationConfig(\n",
    "            root_dir=config.root_dir,\n",
    "            model_path=config.model_path,\n",
    "            test_data_path=config.test_data_path,\n",
    "            metric_file_name=config.metric_file_name,\n",
    "            all_params=params,\n",
    "            mlflow_uri=\"https://dagshub.com/mohitsaini.nitk/DataScienceE2EProject1.mlflow\",\n",
    "            target_column=schema.name\n",
    "        )\n",
    "\n",
    "        return model_evaluation_config\n",
    "\n"
   ]
  },
  {
   "cell_type": "code",
   "execution_count": 7,
   "id": "3209f8ea",
   "metadata": {},
   "outputs": [],
   "source": [
    "import pandas as pd\n",
    "import numpy as np\n",
    "import os\n",
    "from sklearn.metrics import mean_squared_error, mean_absolute_error, r2_score\n",
    "import mlflow\n",
    "from urllib.parse import urlparse\n",
    "import mlflow.sklearn\n",
    "import joblib"
   ]
  },
  {
   "cell_type": "code",
   "execution_count": 8,
   "id": "26217e5d",
   "metadata": {},
   "outputs": [],
   "source": [
    "class ModelEvaluation:\n",
    "    def __init__(self, config: ModelEvaluationConfig):\n",
    "        self.config=config\n",
    "\n",
    "    def eval_metrics(self,actual,pred):\n",
    "        rmse=np.sqrt(mean_squared_error(actual,pred))\n",
    "        mae=mean_absolute_error(actual,pred)\n",
    "        r2=r2_score(actual,pred)\n",
    "\n",
    "        return(rmse, mae, r2)\n",
    "\n",
    "    def mlflow_logging(self):\n",
    "\n",
    "        test_data=pd.read_csv(self.config.test_data_path)\n",
    "        model=joblib.load(self.config.model_path)\n",
    "\n",
    "        test_x=test_data.drop([self.config.target_column], axis=1)\n",
    "        test_y=test_data[[self.config.target_column]]\n",
    "\n",
    "        mlflow.set_registry_uri(self.config.mlflow_uri)\n",
    "        tracking_url_type_store=urlparse(mlflow.get_tracking_uri()).scheme\n",
    "\n",
    "        with mlflow.start_run():\n",
    "\n",
    "            predicting_qualities = model.predict(test_x)\n",
    "\n",
    "            rmse, mae, r2 = self.eval_metrics(test_y, predicting_qualities)\n",
    "\n",
    "            # Saving metrics local\n",
    "            score={\"rmse\": rmse, \"mae\": mae, \"r2\": r2}\n",
    "            save_json(Path(self.config.metric_file_name), data=score)\n",
    "\n",
    "            mlflow.log_params(self.config.all_params)\n",
    "            mlflow.log_metric(\"rmse\", rmse)\n",
    "            mlflow.log_metric(\"mae\", mae)\n",
    "            mlflow.log_metric(\"r2\", r2)\n",
    "\n",
    "            if tracking_url_type_store != \"file\":\n",
    "                mlflow.sklearn.log_model(model, \"model\", registered_model_name=\"ElasticNetModel\")\n",
    "            else:\n",
    "                mlflow.sklearn.log_model(model, \"model\")\n",
    "\n"
   ]
  },
  {
   "cell_type": "code",
   "execution_count": 9,
   "id": "5d286238",
   "metadata": {},
   "outputs": [
    {
     "name": "stdout",
     "output_type": "stream",
     "text": [
      "[2025-07-05 03:02:31,552: INFO: common: yaml file: config\\config.yaml loaded successfully]\n",
      "[2025-07-05 03:02:31,554: INFO: common: yaml file: params.yaml loaded successfully]\n",
      "[2025-07-05 03:02:31,558: INFO: common: yaml file: schema.yaml loaded successfully]\n",
      "[2025-07-05 03:02:31,559: INFO: common: Created directory: artifacts/model_evaluation]\n",
      "[2025-07-05 03:02:32,833: INFO: common: json file saved at: artifacts\\model_evaluation\\metrics.json]\n"
     ]
    },
    {
     "name": "stderr",
     "output_type": "stream",
     "text": [
      "2025/07/05 03:02:46 WARNING mlflow.models.model: Model logged without a signature and input example. Please set `input_example` parameter when logging the model to auto infer the model signature.\n",
      "Successfully registered model 'ElasticNetModel'.\n",
      "2025/07/05 03:02:51 INFO mlflow.store.model_registry.abstract_store: Waiting up to 300 seconds for model version to finish creation. Model name: ElasticNetModel, version 1\n",
      "Created version '1' of model 'ElasticNetModel'.\n"
     ]
    },
    {
     "name": "stdout",
     "output_type": "stream",
     "text": [
      "🏃 View run rumbling-sponge-440 at: https://dagshub.com/mohitsaini.nitk/DataScienceE2EProject1.mlflow/#/experiments/0/runs/62e393b591cc4acd96114ed27f39e71c\n",
      "🧪 View experiment at: https://dagshub.com/mohitsaini.nitk/DataScienceE2EProject1.mlflow/#/experiments/0\n"
     ]
    }
   ],
   "source": [
    "try:\n",
    "    config=ConfigurationManager()\n",
    "    model_evaluation_config=config.get_model_evaluation_config()\n",
    "    model_evaluation=ModelEvaluation(config=model_evaluation_config)\n",
    "    model_evaluation.mlflow_logging()\n",
    "except Exception as e:\n",
    "    raise e\n"
   ]
  },
  {
   "cell_type": "code",
   "execution_count": null,
   "id": "61f778f2",
   "metadata": {},
   "outputs": [],
   "source": []
  }
 ],
 "metadata": {
  "kernelspec": {
   "display_name": "venv",
   "language": "python",
   "name": "python3"
  },
  "language_info": {
   "codemirror_mode": {
    "name": "ipython",
    "version": 3
   },
   "file_extension": ".py",
   "mimetype": "text/x-python",
   "name": "python",
   "nbconvert_exporter": "python",
   "pygments_lexer": "ipython3",
   "version": "3.10.0"
  }
 },
 "nbformat": 4,
 "nbformat_minor": 5
}
